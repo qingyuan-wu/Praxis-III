{
  "cells": [
    {
      "cell_type": "markdown",
      "metadata": {
        "colab_type": "text",
        "id": "view-in-github"
      },
      "source": [
        "<a href=\"https://colab.research.google.com/github/qingyuan-wu/Praxis-III/blob/ML-model/classify.ipynb\" target=\"_parent\"><img src=\"https://colab.research.google.com/assets/colab-badge.svg\" alt=\"Open In Colab\"/></a>"
      ]
    },
    {
      "cell_type": "markdown",
      "metadata": {
        "id": "9JiVXYYZcy0z"
      },
      "source": [
        "# Plastics Classifier using PlastNet\n",
        "This program will take in a single image of a plastic and classify it as either PET or non-PET."
      ]
    },
    {
      "cell_type": "markdown",
      "metadata": {
        "id": "9cNzvheKeXDR"
      },
      "source": [
        "### 0. Import Libraries and Mount Drive"
      ]
    },
    {
      "cell_type": "code",
      "execution_count": 16,
      "metadata": {
        "id": "nZM023PveV57"
      },
      "outputs": [],
      "source": [
        "import torch\n",
        "import torch.nn as nn\n",
        "import matplotlib.pyplot as plt\n",
        "import numpy as np\n",
        "import os"
      ]
    },
    {
      "cell_type": "code",
      "execution_count": 2,
      "metadata": {
        "colab": {
          "base_uri": "https://localhost:8080/"
        },
        "id": "diqfscw8ediC",
        "outputId": "d5f618be-217d-4ecf-c2ac-ed981f1cabb6"
      },
      "outputs": [
        {
          "name": "stdout",
          "output_type": "stream",
          "text": [
            "Mounted at /content/gdrive\n"
          ]
        }
      ],
      "source": [
        "from google.colab import drive\n",
        "drive.mount('/content/gdrive')"
      ]
    },
    {
      "cell_type": "markdown",
      "metadata": {
        "id": "lnPmVAhLc8M1"
      },
      "source": [
        "### 1. Pre-process Input Image\n",
        "The trained CNN works on 1277x1277 images. Pre-process input image to have dimensions 1277x1277 pixels."
      ]
    },
    {
      "cell_type": "code",
      "execution_count": 7,
      "metadata": {
        "colab": {
          "base_uri": "https://localhost:8080/"
        },
        "id": "iULa1PpPZ0DO",
        "outputId": "495d04cd-d38b-4a6d-f9d6-a04e70dec0a5"
      },
      "outputs": [
        {
          "name": "stdout",
          "output_type": "stream",
          "text": [
            "Collecting pyheif\n",
            "  Downloading pyheif-0.7.0-cp37-cp37m-manylinux_2_17_x86_64.manylinux2014_x86_64.whl (9.8 MB)\n",
            "\u001b[K     |████████████████████████████████| 9.8 MB 4.2 MB/s \n",
            "\u001b[?25hRequirement already satisfied: cffi>=1.0.0 in /usr/local/lib/python3.7/dist-packages (from pyheif) (1.15.0)\n",
            "Requirement already satisfied: pycparser in /usr/local/lib/python3.7/dist-packages (from cffi>=1.0.0->pyheif) (2.21)\n",
            "Installing collected packages: pyheif\n",
            "Successfully installed pyheif-0.7.0\n"
          ]
        }
      ],
      "source": [
        "!pip install pyheif"
      ]
    },
    {
      "cell_type": "code",
      "execution_count": 21,
      "metadata": {
        "id": "25Rzw_sIb-FO"
      },
      "outputs": [],
      "source": [
        "from PIL import Image"
      ]
    },
    {
      "cell_type": "code",
      "execution_count": null,
      "metadata": {},
      "outputs": [],
      "source": [
        "import pyheif"
      ]
    },
    {
      "cell_type": "code",
      "execution_count": 14,
      "metadata": {
        "id": "p01hRLstcxCu"
      },
      "outputs": [],
      "source": [
        "def preprocess(img_path, out_path, out_height, out_width):\n",
        "\n",
        "    '''\n",
        "    resize images to out_height x out_width and convert from heic to jpg if necessary\n",
        "    Save .jpg image to out_path\n",
        "    '''\n",
        "    if \".HEIC\" in img_path:\n",
        "        # convert from heic to jpeg\n",
        "        heif_file = pyheif.read(img_path)\n",
        "        image = Image.frombytes(\n",
        "            heif_file.mode, \n",
        "            heif_file.size, \n",
        "            heif_file.data,\n",
        "            \"raw\",\n",
        "            heif_file.mode,\n",
        "            heif_file.stride,\n",
        "            )\n",
        "        image.save(out_path, \"JPEG\")\n",
        "        # resize to 1277 by 1277\n",
        "        image = Image.open(out_path)\n",
        "    else:\n",
        "        image = Image.open(img_path)\n",
        "\n",
        "    new_image = image.resize((out_height, out_width))\n",
        "    new_image.save(out_path)\n",
        "\n",
        "    print(f\"original size {image.size}\")\n",
        "    print(f\"new size {new_image.size}\") \n",
        "    image.close()"
      ]
    },
    {
      "cell_type": "markdown",
      "metadata": {
        "id": "dzRoRBDDdWMt"
      },
      "source": [
        "### 2. Feed Image into our Trained Convolutional Neural Network, PlastNet"
      ]
    },
    {
      "cell_type": "code",
      "execution_count": 17,
      "metadata": {
        "id": "AGG6dwFHe9fo"
      },
      "outputs": [],
      "source": [
        "class PlastNet(nn.Module):\n",
        "    name = \"PlastNet\"\n",
        "    def __init__(self):\n",
        "        # input dimensions: 256x256\n",
        "        super(PlastNet, self).__init__()\n",
        "        self.conv_layer_1 = nn.Sequential(\n",
        "            nn.Conv2d(3, 16, 3), # 254\n",
        "            nn.BatchNorm2d(16), # must be output channel of previous layer\n",
        "            nn.ReLU(inplace=True),\n",
        "            nn.MaxPool2d(2, 2) # 127\n",
        "        )\n",
        "        self.conv_layer_2 = nn.Sequential(\n",
        "            nn.Conv2d(16, 16, 3), # 125\n",
        "            nn.BatchNorm2d(16),\n",
        "            nn.ReLU(inplace=True),\n",
        "            nn.MaxPool2d(2, 2), # 62\n",
        "            nn.Dropout2d(p=0.05),\n",
        "        )\n",
        "        self.conv_layer_3 = nn.Sequential(\n",
        "            nn.Conv2d(16, 32, 3), # 60\n",
        "            nn.BatchNorm2d(32),\n",
        "            nn.ReLU(inplace=True),\n",
        "            nn.MaxPool2d(2, 2), # 30\n",
        "        )\n",
        "        self.conv_layer_4 = nn.Sequential(\n",
        "            nn.Conv2d(32, 32, 3), # 28\n",
        "            nn.BatchNorm2d(32),\n",
        "            nn.ReLU(inplace=True),\n",
        "            nn.MaxPool2d(2, 2), # 14\n",
        "            nn.Dropout2d(p=0.05), \n",
        "        )\n",
        "        self.conv_layer_5 = nn.Sequential(\n",
        "            nn.Conv2d(32, 64, 3), # 12\n",
        "            nn.BatchNorm2d(64),\n",
        "            nn.ReLU(inplace=True),\n",
        "            nn.MaxPool2d(2, 2), # 6\n",
        "        )\n",
        "\n",
        "        self.fc = nn.Sequential(\n",
        "            nn.Linear(64*6*6, 512),\n",
        "            nn.ReLU(inplace=True),\n",
        "            nn.Linear(512, 2)\n",
        "        )\n",
        "\n",
        "    def forward(self, x):\n",
        "        x = self.conv_layer_1(x)\n",
        "        x = self.conv_layer_2(x)\n",
        "        x = self.conv_layer_3(x)\n",
        "        x = self.conv_layer_4(x)\n",
        "        x = self.conv_layer_5(x)\n",
        "\n",
        "        x = x.view(x.size(0), -1)\n",
        "        x = self.fc(x)\n",
        "        return x"
      ]
    },
    {
      "cell_type": "code",
      "execution_count": 18,
      "metadata": {
        "colab": {
          "base_uri": "https://localhost:8080/"
        },
        "id": "vtoH2O8xdiZH",
        "outputId": "2c713599-b09b-4ada-f43d-883edb842ccf"
      },
      "outputs": [
        {
          "data": {
            "text/plain": [
              "PlastNet(\n",
              "  (conv_layer_1): Sequential(\n",
              "    (0): Conv2d(3, 16, kernel_size=(3, 3), stride=(1, 1))\n",
              "    (1): BatchNorm2d(16, eps=1e-05, momentum=0.1, affine=True, track_running_stats=True)\n",
              "    (2): ReLU(inplace=True)\n",
              "    (3): MaxPool2d(kernel_size=2, stride=2, padding=0, dilation=1, ceil_mode=False)\n",
              "  )\n",
              "  (conv_layer_2): Sequential(\n",
              "    (0): Conv2d(16, 16, kernel_size=(3, 3), stride=(1, 1))\n",
              "    (1): BatchNorm2d(16, eps=1e-05, momentum=0.1, affine=True, track_running_stats=True)\n",
              "    (2): ReLU(inplace=True)\n",
              "    (3): MaxPool2d(kernel_size=2, stride=2, padding=0, dilation=1, ceil_mode=False)\n",
              "    (4): Dropout2d(p=0.05, inplace=False)\n",
              "  )\n",
              "  (conv_layer_3): Sequential(\n",
              "    (0): Conv2d(16, 32, kernel_size=(3, 3), stride=(1, 1))\n",
              "    (1): BatchNorm2d(32, eps=1e-05, momentum=0.1, affine=True, track_running_stats=True)\n",
              "    (2): ReLU(inplace=True)\n",
              "    (3): MaxPool2d(kernel_size=2, stride=2, padding=0, dilation=1, ceil_mode=False)\n",
              "  )\n",
              "  (conv_layer_4): Sequential(\n",
              "    (0): Conv2d(32, 32, kernel_size=(3, 3), stride=(1, 1))\n",
              "    (1): BatchNorm2d(32, eps=1e-05, momentum=0.1, affine=True, track_running_stats=True)\n",
              "    (2): ReLU(inplace=True)\n",
              "    (3): MaxPool2d(kernel_size=2, stride=2, padding=0, dilation=1, ceil_mode=False)\n",
              "    (4): Dropout2d(p=0.05, inplace=False)\n",
              "  )\n",
              "  (conv_layer_5): Sequential(\n",
              "    (0): Conv2d(32, 64, kernel_size=(3, 3), stride=(1, 1))\n",
              "    (1): BatchNorm2d(64, eps=1e-05, momentum=0.1, affine=True, track_running_stats=True)\n",
              "    (2): ReLU(inplace=True)\n",
              "    (3): MaxPool2d(kernel_size=2, stride=2, padding=0, dilation=1, ceil_mode=False)\n",
              "  )\n",
              "  (fc): Sequential(\n",
              "    (0): Linear(in_features=2304, out_features=512, bias=True)\n",
              "    (1): ReLU(inplace=True)\n",
              "    (2): Linear(in_features=512, out_features=2, bias=True)\n",
              "  )\n",
              ")"
            ]
          },
          "execution_count": 18,
          "metadata": {},
          "output_type": "execute_result"
        }
      ],
      "source": [
        "model_path = \"ML-Models/model_PlastNet_256x256_bs32_lr0.001_epoch6\"\n",
        "\n",
        "model = PlastNet()\n",
        "model.load_state_dict(torch.load(model_path))\n",
        "model.eval()"
      ]
    },
    {
      "cell_type": "code",
      "execution_count": 19,
      "metadata": {
        "id": "Sncw4NYK05bI"
      },
      "outputs": [],
      "source": [
        "def classify_plastic(image_path):\n",
        "    '''\n",
        "    Take in a 1277x1277 rgb image and classify it as either PET or non-PET\n",
        "    Return: a 2-element torch array with probabiliy of PET and non-PET\n",
        "    '''\n",
        "    im = plt.imread(image_path)\n",
        "    im = np.transpose(im, [2,0,1])\n",
        "    im = torch.from_numpy(im)\n",
        "    im = im.type(torch.FloatTensor)\n",
        "    # normalize = transforms.Normalize([0.5, 0.5, 0.5], [0.5, 0.5, 0.5])\n",
        "    # im = normalize(im)\n",
        "    im = torch.unsqueeze(im, 0)\n",
        "\n",
        "    pred = model(im)\n",
        "    softmax = nn.Softmax(dim=1)\n",
        "    pred = softmax(pred)\n",
        "    print(f\"PET: {pred[0][0]}, not PET: {pred[0][1]}\")\n",
        "    return pred"
      ]
    },
    {
      "cell_type": "code",
      "execution_count": 11,
      "metadata": {
        "colab": {
          "base_uri": "https://localhost:8080/"
        },
        "id": "s19EkrzlXAXY",
        "outputId": "59e326a3-89c3-4d73-a896-2e9edfa89fb7"
      },
      "outputs": [],
      "source": [
        "\n",
        "# out_path = \"/IMG_7455.jpg\"\n",
        "# preprocess(source_path, out_path, 256, 256)"
      ]
    },
    {
      "cell_type": "markdown",
      "metadata": {},
      "source": [
        "### Classify and Send Results as POST Request"
      ]
    },
    {
      "cell_type": "code",
      "execution_count": 49,
      "metadata": {},
      "outputs": [],
      "source": [
        "import requests as req\n",
        "def send_data(URL, value=1):\n",
        "    d = {1: \"PET\", 2: \"not PET\"}\n",
        "\n",
        "    data={ \"type\": value }\n",
        "    req.post(URL, data=data)\n",
        "    print(f\"sent {value}: {d[value]} as POST request to {URL}\")"
      ]
    },
    {
      "cell_type": "code",
      "execution_count": 11,
      "metadata": {},
      "outputs": [
        {
          "name": "stdout",
          "output_type": "stream",
          "text": [
            "<bound method Response.json of <Response [200]>>\n"
          ]
        }
      ],
      "source": [
        "import requests as req\n",
        "URL = \"http://localhost:4003\"\n",
        "resp = req.get(URL)\n",
        "print(resp.json)"
      ]
    },
    {
      "cell_type": "code",
      "execution_count": 6,
      "metadata": {},
      "outputs": [
        {
          "name": "stdout",
          "output_type": "stream",
          "text": [
            "send request to http://localhost:4003\n"
          ]
        }
      ],
      "source": [
        "send_data(URL)"
      ]
    },
    {
      "cell_type": "code",
      "execution_count": 50,
      "metadata": {},
      "outputs": [
        {
          "name": "stdout",
          "output_type": "stream",
          "text": [
            "sent 2: not PET as POST request to http://localhost:4003\n",
            "sent 2: not PET as POST request to http://localhost:4003\n",
            "sent 2: not PET as POST request to http://localhost:4003\n",
            "sent 1: PET as POST request to http://localhost:4003\n",
            "sent 2: not PET as POST request to http://localhost:4003\n",
            "sent 1: PET as POST request to http://localhost:4003\n",
            "sent 2: not PET as POST request to http://localhost:4003\n",
            "sent 1: PET as POST request to http://localhost:4003\n",
            "sent 2: not PET as POST request to http://localhost:4003\n",
            "sent 2: not PET as POST request to http://localhost:4003\n",
            "sent 2: not PET as POST request to http://localhost:4003\n",
            "sent 1: PET as POST request to http://localhost:4003\n",
            "sent 2: not PET as POST request to http://localhost:4003\n",
            "sent 2: not PET as POST request to http://localhost:4003\n",
            "sent 2: not PET as POST request to http://localhost:4003\n",
            "sent 2: not PET as POST request to http://localhost:4003\n",
            "sent 1: PET as POST request to http://localhost:4003\n",
            "sent 1: PET as POST request to http://localhost:4003\n",
            "sent 1: PET as POST request to http://localhost:4003\n",
            "sent 1: PET as POST request to http://localhost:4003\n",
            "sent 1: PET as POST request to http://localhost:4003\n",
            "sent 2: not PET as POST request to http://localhost:4003\n",
            "sent 1: PET as POST request to http://localhost:4003\n",
            "sent 1: PET as POST request to http://localhost:4003\n",
            "sent 2: not PET as POST request to http://localhost:4003\n",
            "sent 2: not PET as POST request to http://localhost:4003\n",
            "sent 1: PET as POST request to http://localhost:4003\n",
            "sent 2: not PET as POST request to http://localhost:4003\n",
            "sent 1: PET as POST request to http://localhost:4003\n",
            "sent 2: not PET as POST request to http://localhost:4003\n",
            "sent 2: not PET as POST request to http://localhost:4003\n",
            "sent 2: not PET as POST request to http://localhost:4003\n",
            "sent 1: PET as POST request to http://localhost:4003\n",
            "sent 2: not PET as POST request to http://localhost:4003\n",
            "sent 2: not PET as POST request to http://localhost:4003\n",
            "sent 2: not PET as POST request to http://localhost:4003\n",
            "sent 1: PET as POST request to http://localhost:4003\n",
            "sent 1: PET as POST request to http://localhost:4003\n",
            "sent 1: PET as POST request to http://localhost:4003\n",
            "sent 1: PET as POST request to http://localhost:4003\n",
            "sent 2: not PET as POST request to http://localhost:4003\n",
            "sent 2: not PET as POST request to http://localhost:4003\n",
            "sent 1: PET as POST request to http://localhost:4003\n",
            "sent 2: not PET as POST request to http://localhost:4003\n",
            "sent 1: PET as POST request to http://localhost:4003\n",
            "sent 1: PET as POST request to http://localhost:4003\n",
            "sent 2: not PET as POST request to http://localhost:4003\n",
            "sent 1: PET as POST request to http://localhost:4003\n",
            "sent 1: PET as POST request to http://localhost:4003\n",
            "sent 1: PET as POST request to http://localhost:4003\n",
            "sent 1: PET as POST request to http://localhost:4003\n",
            "sent 1: PET as POST request to http://localhost:4003\n",
            "sent 2: not PET as POST request to http://localhost:4003\n",
            "sent 2: not PET as POST request to http://localhost:4003\n",
            "sent 2: not PET as POST request to http://localhost:4003\n",
            "sent 1: PET as POST request to http://localhost:4003\n",
            "sent 1: PET as POST request to http://localhost:4003\n",
            "sent 2: not PET as POST request to http://localhost:4003\n",
            "sent 1: PET as POST request to http://localhost:4003\n",
            "sent 1: PET as POST request to http://localhost:4003\n",
            "sent 2: not PET as POST request to http://localhost:4003\n",
            "sent 2: not PET as POST request to http://localhost:4003\n",
            "sent 2: not PET as POST request to http://localhost:4003\n",
            "sent 2: not PET as POST request to http://localhost:4003\n",
            "sent 2: not PET as POST request to http://localhost:4003\n",
            "sent 2: not PET as POST request to http://localhost:4003\n",
            "sent 1: PET as POST request to http://localhost:4003\n",
            "sent 1: PET as POST request to http://localhost:4003\n",
            "sent 2: not PET as POST request to http://localhost:4003\n",
            "sent 2: not PET as POST request to http://localhost:4003\n",
            "sent 1: PET as POST request to http://localhost:4003\n",
            "sent 1: PET as POST request to http://localhost:4003\n",
            "sent 2: not PET as POST request to http://localhost:4003\n",
            "sent 2: not PET as POST request to http://localhost:4003\n",
            "sent 1: PET as POST request to http://localhost:4003\n",
            "sent 2: not PET as POST request to http://localhost:4003\n",
            "sent 1: PET as POST request to http://localhost:4003\n",
            "sent 2: not PET as POST request to http://localhost:4003\n",
            "sent 1: PET as POST request to http://localhost:4003\n",
            "sent 2: not PET as POST request to http://localhost:4003\n",
            "sent 2: not PET as POST request to http://localhost:4003\n",
            "sent 1: PET as POST request to http://localhost:4003\n",
            "sent 2: not PET as POST request to http://localhost:4003\n",
            "sent 1: PET as POST request to http://localhost:4003\n",
            "sent 2: not PET as POST request to http://localhost:4003\n",
            "sent 1: PET as POST request to http://localhost:4003\n",
            "sent 2: not PET as POST request to http://localhost:4003\n",
            "sent 1: PET as POST request to http://localhost:4003\n",
            "sent 1: PET as POST request to http://localhost:4003\n",
            "sent 1: PET as POST request to http://localhost:4003\n",
            "sent 1: PET as POST request to http://localhost:4003\n",
            "sent 1: PET as POST request to http://localhost:4003\n",
            "sent 1: PET as POST request to http://localhost:4003\n",
            "sent 2: not PET as POST request to http://localhost:4003\n",
            "sent 1: PET as POST request to http://localhost:4003\n",
            "sent 2: not PET as POST request to http://localhost:4003\n",
            "sent 1: PET as POST request to http://localhost:4003\n",
            "sent 1: PET as POST request to http://localhost:4003\n",
            "sent 2: not PET as POST request to http://localhost:4003\n",
            "sent 1: PET as POST request to http://localhost:4003\n"
          ]
        }
      ],
      "source": [
        "import random\n",
        "import time\n",
        "URL = \"http://localhost:4003\"\n",
        "for i in range(100):\n",
        "    val = random.randint(1,2)\n",
        "    send_data(URL, value=val)\n",
        "    time.sleep(0.5)"
      ]
    },
    {
      "cell_type": "code",
      "execution_count": 48,
      "metadata": {
        "colab": {
          "base_uri": "https://localhost:8080/",
          "height": 282
        },
        "id": "inSSIChbf1ew",
        "outputId": "cb4f84d9-234e-4c89-ffdd-2822a59cff8e"
      },
      "outputs": [
        {
          "name": "stdout",
          "output_type": "stream",
          "text": [
            "PET: 0.0004298934945836663, not PET: 0.9995700716972351\n",
            "sent 2: not PET as POST request to http://localhost:4003\n"
          ]
        },
        {
          "data": {
            "image/png": "[encoded data removed]",
            "text/plain": [
              "<Figure size 432x288 with 1 Axes>"
            ]
          },
          "metadata": {
            "needs_background": "light"
          },
          "output_type": "display_data"
        }
      ],
      "source": [
        "with torch.no_grad():\n",
        "    path_not_PET = \"Test-Images/styrofoam.jpg\"\n",
        "    im = Image.open(path_not_PET)\n",
        "    plt.imshow(im)\n",
        "    plt.axis('off')\n",
        "    plt.title(path_not_PET.split(\"/\")[-1])\n",
        "    pred = classify_plastic(path_not_PET)\n",
        "    value = torch.argmax(pred).item() + 1\n",
        "\n",
        "    URL = f\"http://localhost:4003\"\n",
        "    send_data(URL, value)\n"
      ]
    },
    {
      "cell_type": "code",
      "execution_count": 47,
      "metadata": {},
      "outputs": [
        {
          "name": "stdout",
          "output_type": "stream",
          "text": [
            "PET: 1.0, not PET: 0.0\n",
            "sent 1: PET as POST request to http://localhost:4003\n"
          ]
        },
        {
          "data": {
            "image/png": "[encoded data removed]",
            "text/plain": [
              "<Figure size 432x288 with 1 Axes>"
            ]
          },
          "metadata": {
            "needs_background": "light"
          },
          "output_type": "display_data"
        }
      ],
      "source": [
        "with torch.no_grad():\n",
        "    path_PET = \"Test-Images/bottle.jpg\"\n",
        "    im = Image.open(path_PET)\n",
        "    plt.imshow(im)\n",
        "    plt.axis('off')\n",
        "    plt.title(path_PET.split(\"/\")[-1])\n",
        "    pred = classify_plastic(path_PET)\n",
        "    value = torch.argmax(pred).item() + 1\n",
        "\n",
        "    URL = f\"http://localhost:4003\"\n",
        "    send_data(URL, value)"
      ]
    }
  ],
  "metadata": {
    "colab": {
      "authorship_tag": "ABX9TyPXRvVoxwQforY9VmKUNdsW",
      "include_colab_link": true,
      "name": "classify.ipynb",
      "provenance": []
    },
    "kernelspec": {
      "display_name": "Python 3",
      "name": "python3"
    },
    "language_info": {
      "codemirror_mode": {
        "name": "ipython",
        "version": 3
      },
      "file_extension": ".py",
      "mimetype": "text/x-python",
      "name": "python",
      "nbconvert_exporter": "python",
      "pygments_lexer": "ipython3",
      "version": "3.9.4"
    }
  },
  "nbformat": 4,
  "nbformat_minor": 0
}
